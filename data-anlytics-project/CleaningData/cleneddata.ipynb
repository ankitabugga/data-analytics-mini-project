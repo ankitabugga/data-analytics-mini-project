{
 "cells": [
  {
   "cell_type": "markdown",
   "id": "3ebec39e-b989-4b3f-a9fd-878ac77d7935",
   "metadata": {},
   "source": [
    "# Import libararies"
   ]
  },
  {
   "cell_type": "code",
   "execution_count": 18,
   "id": "8477d5f3-6618-4aea-a03b-8af29ce8e1f7",
   "metadata": {},
   "outputs": [],
   "source": [
    "import pandas as pd\n",
    "import matplotlib.pyplot as plt\n"
   ]
  },
  {
   "cell_type": "markdown",
   "id": "77881e68-7b75-4039-b9e0-f4d6761e91a6",
   "metadata": {},
   "source": [
    "# load database"
   ]
  },
  {
   "cell_type": "code",
   "execution_count": 48,
   "id": "fe5d4485-37d4-4bb7-9483-0f192544e745",
   "metadata": {},
   "outputs": [],
   "source": [
    "# Try reading the CSV file with a different encoding\n",
    "df = pd.read_csv('D:\\\\jn\\\\data-anlytics-project\\\\CleaningData\\\\AB_NYC_2019.csv', encoding='ISO-8859-1')"
   ]
  },
  {
   "cell_type": "code",
   "execution_count": 50,
   "id": "d9ad56a8-f99f-4142-8488-60ee3ce3be6c",
   "metadata": {},
   "outputs": [
    {
     "name": "stdout",
     "output_type": "stream",
     "text": [
      "id                                         int64\n",
      "name                                      object\n",
      "host_id                                    int64\n",
      "host_name                                 object\n",
      "neighbourhood_group                       object\n",
      "neighbourhood                             object\n",
      "latitude                                 float64\n",
      "longitude                                float64\n",
      "room_type                                 object\n",
      "price                                    float64\n",
      "minimum_nights                             int64\n",
      "number_of_reviews                          int64\n",
      "last_review                       datetime64[ns]\n",
      "reviews_per_month                        float64\n",
      "calculated_host_listings_count             int64\n",
      "availability_365                           int64\n",
      "dtype: object\n"
     ]
    }
   ],
   "source": [
    "# Convert columns to appropriate data types\n",
    "df['id'] = df['id'].astype(int)\n",
    "df['host_id'] = df['host_id'].astype(int)\n",
    "df['price'] = df['price'].astype(float)\n",
    "df['minimum_nights'] = df['minimum_nights'].astype(int)\n",
    "df['number_of_reviews'] = df['number_of_reviews'].astype(int)\n",
    "#df['last_review'] = pd.to_datetime(df['last_review'], errors='coerce')\n",
    "df['reviews_per_month'] = df['reviews_per_month'].astype(float)\n",
    "df['calculated_host_listings_count'] = df['calculated_host_listings_count'].astype(int)\n",
    "df['availability_365'] = df['availability_365'].astype(int)\n",
    "# Convert 'last_review' to datetime, specifying the dayfirst parameter\n",
    "df['last_review'] = pd.to_datetime(df['last_review'], dayfirst=True, errors='coerce')\n",
    "# Check the data types\n",
    "print(df.dtypes)"
   ]
  },
  {
   "cell_type": "markdown",
   "id": "2f9f6b33-88d7-4aeb-a32f-40a3622be27e",
   "metadata": {},
   "source": [
    "#  Handling Missing Data"
   ]
  },
  {
   "cell_type": "code",
   "execution_count": 27,
   "id": "e28e39fe-c0f4-4b5c-8180-9b96a39e3cd5",
   "metadata": {},
   "outputs": [
    {
     "name": "stdout",
     "output_type": "stream",
     "text": [
      "id                                    0\n",
      "name                                 16\n",
      "host_id                               0\n",
      "host_name                            21\n",
      "neighbourhood_group                   0\n",
      "neighbourhood                         0\n",
      "latitude                              0\n",
      "longitude                             0\n",
      "room_type                             0\n",
      "price                                 0\n",
      "minimum_nights                        0\n",
      "number_of_reviews                     0\n",
      "last_review                       10052\n",
      "reviews_per_month                 10052\n",
      "calculated_host_listings_count        0\n",
      "availability_365                      0\n",
      "dtype: int64\n"
     ]
    }
   ],
   "source": [
    "# Check for missing values in the dataset\n",
    "missing_data = df.isnull().sum()\n",
    "print(missing_data)\n"
   ]
  },
  {
   "cell_type": "code",
   "execution_count": 34,
   "id": "f453b30f-5811-4163-a86d-7308935036f1",
   "metadata": {},
   "outputs": [
    {
     "name": "stdout",
     "output_type": "stream",
     "text": [
      "id                                 0\n",
      "name                              16\n",
      "host_id                            0\n",
      "host_name                         21\n",
      "neighbourhood_group                0\n",
      "neighbourhood                      0\n",
      "latitude                           0\n",
      "longitude                          0\n",
      "room_type                          0\n",
      "price                              0\n",
      "minimum_nights                     0\n",
      "number_of_reviews                  0\n",
      "last_review                        0\n",
      "reviews_per_month                  0\n",
      "calculated_host_listings_count     0\n",
      "availability_365                   0\n",
      "dtype: int64\n"
     ]
    }
   ],
   "source": [
    "import pandas as pd\n",
    "\n",
    "# Load the dataset (use the correct encoding and handle date parsing)\n",
    "df = pd.read_csv('D:\\\\jn\\\\data-anlytics-project\\\\CleaningData\\\\AB_NYC_2019.csv', encoding='ISO-8859-1')\n",
    "\n",
    "# Convert 'last_review' to datetime, specifying the dayfirst parameter\n",
    "df['last_review'] = pd.to_datetime(df['last_review'], dayfirst=True, errors='coerce')\n",
    "\n",
    "# Fill missing 'reviews_per_month' with the median value (without using inplace)\n",
    "df['reviews_per_month'] = df['reviews_per_month'].fillna(df['reviews_per_month'].median())\n",
    "\n",
    "# Fill missing 'last_review' with a placeholder date (without using inplace)\n",
    "df['last_review'] = df['last_review'].fillna(pd.to_datetime('1970-01-01'))\n",
    "\n",
    "# Check for any remaining missing values\n",
    "print(df.isnull().sum())\n"
   ]
  },
  {
   "cell_type": "markdown",
   "id": "f2c1fc99-a3c3-4964-aff6-068ea985dd16",
   "metadata": {},
   "source": [
    "#  Remove asterisks from the 'name' column"
   ]
  },
  {
   "cell_type": "code",
   "execution_count": 37,
   "id": "49f5355b-1c98-428a-be72-a591136bbd52",
   "metadata": {},
   "outputs": [
    {
     "name": "stdout",
     "output_type": "stream",
     "text": [
      "0                  Clean & quiet apt home by the park\n",
      "1                               Skylit Midtown Castle\n",
      "2                 THE VILLAGE OF HARLEM....NEW YORK !\n",
      "3                     Cozy Entire Floor of Brownstone\n",
      "4    Entire Apt: Spacious Studio/Loft by central park\n",
      "Name: name, dtype: object\n"
     ]
    }
   ],
   "source": [
    "\n",
    "# Remove asterisks from the 'name' column\n",
    "df['name'] = df['name'].str.replace('*', '', regex=False)\n",
    "\n",
    "# Verify the changes\n",
    "print(df['name'].head())\n"
   ]
  },
  {
   "cell_type": "code",
   "execution_count": 38,
   "id": "5ebb83bb-e2e2-438f-9996-60ca5876dffc",
   "metadata": {},
   "outputs": [
    {
     "name": "stdout",
     "output_type": "stream",
     "text": [
      "Missing Data Summary:\n",
      "id                                 0\n",
      "name                              16\n",
      "host_id                            0\n",
      "host_name                         21\n",
      "neighbourhood_group                0\n",
      "neighbourhood                      0\n",
      "latitude                           0\n",
      "longitude                          0\n",
      "room_type                          0\n",
      "price                              0\n",
      "minimum_nights                     0\n",
      "number_of_reviews                  0\n",
      "last_review                        0\n",
      "reviews_per_month                  0\n",
      "calculated_host_listings_count     0\n",
      "availability_365                   0\n",
      "dtype: int64\n"
     ]
    }
   ],
   "source": [
    "# Check for missing data in each column\n",
    "missing_data = df.isnull().sum()\n",
    "\n",
    "print(\"Missing Data Summary:\")\n",
    "print(missing_data)"
   ]
  },
  {
   "cell_type": "code",
   "execution_count": 39,
   "id": "ca58dfba-12c1-4736-a9ce-18444a1ebf35",
   "metadata": {},
   "outputs": [
    {
     "name": "stdout",
     "output_type": "stream",
     "text": [
      "id                                0\n",
      "name                              0\n",
      "host_id                           0\n",
      "host_name                         0\n",
      "neighbourhood_group               0\n",
      "neighbourhood                     0\n",
      "latitude                          0\n",
      "longitude                         0\n",
      "room_type                         0\n",
      "price                             0\n",
      "minimum_nights                    0\n",
      "number_of_reviews                 0\n",
      "last_review                       0\n",
      "reviews_per_month                 0\n",
      "calculated_host_listings_count    0\n",
      "availability_365                  0\n",
      "dtype: int64\n"
     ]
    }
   ],
   "source": [
    "# Drop rows with missing values\n",
    "df.dropna(inplace=True)\n",
    "\n",
    "# Drop columns with missing values\n",
    "# df.dropna(axis=1, inplace=True)\n",
    "\n",
    "# Check for any remaining missing values\n",
    "print(df.isnull().sum())\n"
   ]
  },
  {
   "cell_type": "markdown",
   "id": "9d9a97e3-5ddd-4997-b18f-472e1382ac47",
   "metadata": {},
   "source": [
    "# Duplicate Removal"
   ]
  },
  {
   "cell_type": "code",
   "execution_count": 42,
   "id": "dc5aa241-b176-4d9e-83f1-9db76cc2d706",
   "metadata": {},
   "outputs": [
    {
     "name": "stdout",
     "output_type": "stream",
     "text": [
      "0\n"
     ]
    }
   ],
   "source": [
    "# Remove duplicate rows based on all columns\n",
    "df.drop_duplicates(inplace=True)\n",
    "\n",
    "# If you want to drop duplicates based on specific columns, specify those columns\n",
    "# df.drop_duplicates(subset=['id', 'host_id'], inplace=True)\n",
    "\n",
    "# Verify that duplicates are removed\n",
    "print(df.duplicated().sum())\n"
   ]
  },
  {
   "cell_type": "raw",
   "id": "cc381f48-7861-41dc-b42a-5b50a8eecdd7",
   "metadata": {},
   "source": [
    "id: Unique identifier for the listing. name: Name of the listing. host_id: Unique identifier for the host. host_name: Name of the host. neighbourhood_group: The broader area or region where the listing is located. neighbourhood: The specific neighborhood within the broader region. latitude: Latitude coordinate of the listing’s location. longitude: Longitude coordinate of the listing’s location. room_type: Type of room offered (e.g., entire home/apartment, private room, shared room). price: Price per night for the listing. minimum_nights: Minimum number of nights required for a booking. number_of_reviews: Total number of reviews the listing has received. last_review: Date of the most recent review. reviews_per_month: Average number of reviews per month. calculated_host_listings_count: Number of listings the host has. availability_365: Number of days the listing is available for booking in a year (out of 365 days)"
   ]
  },
  {
   "cell_type": "code",
   "execution_count": 51,
   "id": "3a984d07-cb6b-4f88-b5bf-2eac80036a57",
   "metadata": {},
   "outputs": [
    {
     "name": "stdout",
     "output_type": "stream",
     "text": [
      "<class 'pandas.core.frame.DataFrame'>\n",
      "RangeIndex: 48895 entries, 0 to 48894\n",
      "Data columns (total 16 columns):\n",
      " #   Column                          Non-Null Count  Dtype         \n",
      "---  ------                          --------------  -----         \n",
      " 0   id                              48895 non-null  int64         \n",
      " 1   name                            48879 non-null  object        \n",
      " 2   host_id                         48895 non-null  int64         \n",
      " 3   host_name                       48874 non-null  object        \n",
      " 4   neighbourhood_group             48895 non-null  object        \n",
      " 5   neighbourhood                   48895 non-null  object        \n",
      " 6   latitude                        48895 non-null  float64       \n",
      " 7   longitude                       48895 non-null  float64       \n",
      " 8   room_type                       48895 non-null  object        \n",
      " 9   price                           48895 non-null  float64       \n",
      " 10  minimum_nights                  48895 non-null  int64         \n",
      " 11  number_of_reviews               48895 non-null  int64         \n",
      " 12  last_review                     38843 non-null  datetime64[ns]\n",
      " 13  reviews_per_month               38843 non-null  float64       \n",
      " 14  calculated_host_listings_count  48895 non-null  int64         \n",
      " 15  availability_365                48895 non-null  int64         \n",
      "dtypes: datetime64[ns](1), float64(4), int64(6), object(5)\n",
      "memory usage: 6.0+ MB\n",
      "None\n",
      "     id                                              name  host_id  \\\n",
      "0  2539                Clean & quiet apt home by the park     2787   \n",
      "1  2595                             Skylit Midtown Castle     2845   \n",
      "2  3647               THE VILLAGE OF HARLEM....NEW YORK !     4632   \n",
      "3  3831                   Cozy Entire Floor of Brownstone     4869   \n",
      "4  5022  Entire Apt: Spacious Studio/Loft by central park     7192   \n",
      "\n",
      "     host_name neighbourhood_group neighbourhood  latitude  longitude  \\\n",
      "0         John            Brooklyn    Kensington  40.64749  -73.97237   \n",
      "1     Jennifer           Manhattan       Midtown  40.75362  -73.98377   \n",
      "2    Elisabeth           Manhattan        Harlem  40.80902  -73.94190   \n",
      "3  LisaRoxanne            Brooklyn  Clinton Hill  40.68514  -73.95976   \n",
      "4        Laura           Manhattan   East Harlem  40.79851  -73.94399   \n",
      "\n",
      "         room_type  price  minimum_nights  number_of_reviews last_review  \\\n",
      "0     Private room  149.0               1                  9  2018-10-19   \n",
      "1  Entire home/apt  225.0               1                 45  2019-05-21   \n",
      "2     Private room  150.0               3                  0         NaT   \n",
      "3  Entire home/apt   89.0               1                270  2019-07-05   \n",
      "4  Entire home/apt   80.0              10                  9  2018-11-19   \n",
      "\n",
      "   reviews_per_month  calculated_host_listings_count  availability_365  \n",
      "0               0.21                               6               365  \n",
      "1               0.38                               2               355  \n",
      "2                NaN                               1               365  \n",
      "3               4.64                               1               194  \n",
      "4               0.10                               1                 0  \n"
     ]
    }
   ],
   "source": [
    "# Inspect the cleaned DataFrame\n",
    "print(df.info())\n",
    "print(df.head())\n"
   ]
  },
  {
   "cell_type": "markdown",
   "id": "306fb693-cecd-4002-8062-d15528d7c7b9",
   "metadata": {},
   "source": [
    "# Standardization:"
   ]
  },
  {
   "cell_type": "code",
   "execution_count": 43,
   "id": "34e7641a-8fd9-4e4d-854b-ce4c18ba3f28",
   "metadata": {},
   "outputs": [
    {
     "name": "stdout",
     "output_type": "stream",
     "text": [
      "     id                                              name  host_id  \\\n",
      "0  2539                Clean & quiet apt home by the park     2787   \n",
      "1  2595                             Skylit Midtown Castle     2845   \n",
      "2  3647               THE VILLAGE OF HARLEM....NEW YORK !     4632   \n",
      "3  3831                   Cozy Entire Floor of Brownstone     4869   \n",
      "4  5022  Entire Apt: Spacious Studio/Loft by central park     7192   \n",
      "\n",
      "     host_name neighbourhood_group neighbourhood  latitude  longitude  \\\n",
      "0         John            BROOKLYN    Kensington  40.64749  -73.97237   \n",
      "1     Jennifer           MANHATTAN       Midtown  40.75362  -73.98377   \n",
      "2    Elisabeth           MANHATTAN        Harlem  40.80902  -73.94190   \n",
      "3  LisaRoxanne            BROOKLYN  Clinton Hill  40.68514  -73.95976   \n",
      "4        Laura           MANHATTAN   East Harlem  40.79851  -73.94399   \n",
      "\n",
      "         room_type  price  minimum_nights  number_of_reviews last_review  \\\n",
      "0     Private Room    149               1                  9  2018-10-19   \n",
      "1  Entire Home/Apt    225               1                 45  2019-05-21   \n",
      "2     Private Room    150               3                  0  1970-01-01   \n",
      "3  Entire Home/Apt     89               1                270  2019-07-05   \n",
      "4  Entire Home/Apt     80              10                  9  2018-11-19   \n",
      "\n",
      "   reviews_per_month  calculated_host_listings_count  availability_365  \n",
      "0               0.21                               6               365  \n",
      "1               0.38                               2               355  \n",
      "2               0.72                               1               365  \n",
      "3               4.64                               1               194  \n",
      "4               0.10                               1                 0  \n"
     ]
    }
   ],
   "source": [
    "\n",
    "\n",
    "# Standardize text data\n",
    "df['neighbourhood_group'] = df['neighbourhood_group'].str.upper()\n",
    "df['name'] = df['name'].str.strip()\n",
    "df['room_type'] = df['room_type'].str.title()\n",
    "\n",
    "# Standardize numerical data\n",
    "df['price'] = df['price'].apply(lambda x: round(x, 2))\n",
    "df['latitude'] = df['latitude'].astype(float)\n",
    "df['longitude'] = df['longitude'].astype(float)\n",
    "\n",
    "# Check the changes\n",
    "print(df.head())\n"
   ]
  },
  {
   "cell_type": "markdown",
   "id": "34fb6063-9300-4231-92ea-842b6c7b2984",
   "metadata": {},
   "source": [
    "# Outlier Detection"
   ]
  },
  {
   "cell_type": "code",
   "execution_count": 45,
   "id": "7ffa14ac-2fb1-4ec8-8485-498707dd3298",
   "metadata": {},
   "outputs": [
    {
     "name": "stdout",
     "output_type": "stream",
     "text": [
      "Number of outliers (Z-score method): 1668\n"
     ]
    }
   ],
   "source": [
    "from scipy import stats\n",
    "\n",
    "# Calculate Z-scores\n",
    "z_scores = stats.zscore(df[['price', 'latitude', 'longitude']])\n",
    "df_z_scores = pd.DataFrame(z_scores, columns=['price', 'latitude', 'longitude'])\n",
    "\n",
    "# Identify outliers\n",
    "outliers_z = (df_z_scores.abs() > 3).any(axis=1)\n",
    "print(\"Number of outliers (Z-score method):\", outliers_z.sum())\n"
   ]
  },
  {
   "cell_type": "code",
   "execution_count": 46,
   "id": "af1e6c2d-44a1-4f9d-ad4b-58944dd33b71",
   "metadata": {},
   "outputs": [
    {
     "name": "stdout",
     "output_type": "stream",
     "text": [
      "Number of outliers (IQR method): 2971\n"
     ]
    }
   ],
   "source": [
    "Q1 = df['price'].quantile(0.25)\n",
    "Q3 = df['price'].quantile(0.75)\n",
    "IQR = Q3 - Q1\n",
    "\n",
    "# Identify outliers\n",
    "outliers_iqr = (df['price'] < (Q1 - 1.5 * IQR)) | (df['price'] > (Q3 + 1.5 * IQR))\n",
    "print(\"Number of outliers (IQR method):\", outliers_iqr.sum())\n"
   ]
  }
 ],
 "metadata": {
  "kernelspec": {
   "display_name": "Python 3 (ipykernel)",
   "language": "python",
   "name": "python3"
  },
  "language_info": {
   "codemirror_mode": {
    "name": "ipython",
    "version": 3
   },
   "file_extension": ".py",
   "mimetype": "text/x-python",
   "name": "python",
   "nbconvert_exporter": "python",
   "pygments_lexer": "ipython3",
   "version": "3.12.4"
  }
 },
 "nbformat": 4,
 "nbformat_minor": 5
}
